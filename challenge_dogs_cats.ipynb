{
 "cells": [
  {
   "cell_type": "markdown",
   "id": "65827ad9",
   "metadata": {},
   "source": [
    "![CAT_DOG](img/cat_dog.jpeg)"
   ]
  },
  {
   "cell_type": "markdown",
   "id": "38566f1a",
   "metadata": {},
   "source": [
    "# Classifier des images de chiens et de chats avec un MLP\n",
    "\n",
    "🎯 **Objectif du projet**\n",
    "\n",
    "Vous devez concevoir, entraîner et évaluer un réseau de neurones de type MLP (Multilayer Perceptron) capable de distinguer des images de chiens et de chats. Ce projet vous permettra de comprendre les bases de la classification supervisée appliquée aux images, en utilisant une architecture dense simple.  \n",
    "\n",
    "Les images des animaux se trouvent dans `data/pets`.\n",
    "\n",
    "📝 **Recommandations techniques**\n",
    "> Taille des images :\n",
    "- Redimensionnez toutes les images à une taille uniforme, par exemple 64×64 pixels.\n",
    "- Pour faciliter cet exercice, travaillez avec des images en niveau de gris. \n",
    "- Chaque image devra être aplatie (flatten) en un vecteur d’entrée de 4096 valeurs (64×64).\n",
    "> Architecture du MLP :\n",
    "- Utilisez 1 à 3 couches cachées avec des activations ReLU. Vous pouvez expérimenter d'autres fonction d'activations.\n",
    "- La dernière couche doit comporter 1 seul neurone avec une activation sigmoid, car vous êtes sur une tâche de classification binaire.\n",
    "> Fonction de perte :\n",
    "- Utilisez impérativement la fonction binary_crossentropy, adaptée à une sortie de type sigmoid.\n",
    "> Évaluation du modèle :\n",
    "- Affichez la précision (accuracy) sur l’ensemble d’entraînement et de validation.\n",
    "- tilisez une matrice de confusion pour analyser les erreurs.\n",
    "> Prétraitement des données :\n",
    "- Appliquez une normalisation des pixels (ex. : rescale=1./255) pour faciliter l’apprentissage du modèle.\n",
    "> Bonnes pratiques :\n",
    "- Travaillez avec un générateur d’images pour éviter de charger tout en mémoire.\n",
    "- Séparez bien vos données en train / validation.\n",
    "> Bonus\n",
    "- Travaillez avec un générateur d’images pour éviter de charger tout en mémoire : ImageDataGenerator"
   ]
  }
 ],
 "metadata": {
  "kernelspec": {
   "display_name": ".venv",
   "language": "python",
   "name": "python3"
  },
  "language_info": {
   "codemirror_mode": {
    "name": "ipython",
    "version": 3
   },
   "file_extension": ".py",
   "mimetype": "text/x-python",
   "name": "python",
   "nbconvert_exporter": "python",
   "pygments_lexer": "ipython3",
   "version": "3.10.17"
  }
 },
 "nbformat": 4,
 "nbformat_minor": 5
}
